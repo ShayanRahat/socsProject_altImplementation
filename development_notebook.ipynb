{
 "metadata": {
  "name": "",
  "signature": "sha256:1770cd42e8c480c414662384a51be0312f1b0745316e246efe617bb93ba192a0"
 },
 "nbformat": 3,
 "nbformat_minor": 0,
 "worksheets": [
  {
   "cells": [
    {
     "cell_type": "code",
     "collapsed": false,
     "input": [
      "import FISH\n",
      "import SAILOR\n",
      "import SEA\n",
      "\n",
      "import random\n",
      "import matplotlib as plt\n",
      "import matplotlib.pyplot as pyplot\n",
      "#%matplotlib inline"
     ],
     "language": "python",
     "metadata": {},
     "outputs": [],
     "prompt_number": 1
    },
    {
     "cell_type": "code",
     "collapsed": false,
     "input": [
      "sea_size=(100,100)\n",
      "sea=SEA.Sea(sea_size)\n",
      "#print(\"Sea carrying capacity=\",sea.K)"
     ],
     "language": "python",
     "metadata": {},
     "outputs": [
      {
       "output_type": "stream",
       "stream": "stdout",
       "text": [
        "Creating a Sea object.\n",
        "Sea size is: (100, 100) \n",
        "\n",
        "\n"
       ]
      }
     ],
     "prompt_number": 2
    },
    {
     "cell_type": "code",
     "collapsed": false,
     "input": [
      "#The main script also populates the sea with a number of fish schools and keeps a list of pointers to those fish schools.\n",
      "min_init_school_size=300\n",
      "max_init_school_size=800\n",
      "number_of_schools=20\n",
      "school_register=[]\n",
      "\n",
      "for this_school in range(number_of_schools):\n",
      "    position=(random.choice(range(sea_size[0])),random.choice(range(sea_size[1])))\n",
      "    #print(\"Created fish school at position:\",position)\n",
      "    population=min(random.choice(range(min_init_school_size,max_init_school_size)),sea.K[position[0]][position[1]])\n",
      "    #print(\"School population=\",population)\n",
      "    school_register.append(FISH.Fish(position,population))\n",
      "    \n",
      "#print(school_register)"
     ],
     "language": "python",
     "metadata": {},
     "outputs": [],
     "prompt_number": 3
    },
    {
     "cell_type": "code",
     "collapsed": false,
     "input": [
      "#Let's create some sailors!\n",
      "number_of_fishermen=2\n",
      "sailor_register=[]\n",
      "for sailor in range(number_of_fishermen):\n",
      "    position=(random.choice(range(sea_size[0])),random.choice(range(sea_size[1])))\n",
      "    sailor_register.append(SAILOR.Sailor(position))\n",
      "    print(\"There's a sailor at\",position)"
     ],
     "language": "python",
     "metadata": {},
     "outputs": [
      {
       "output_type": "stream",
       "stream": "stdout",
       "text": [
        "There's a sailor at (77, 7)\n",
        "There's a sailor at (67, 17)\n"
       ]
      }
     ],
     "prompt_number": 4
    },
    {
     "cell_type": "code",
     "collapsed": false,
     "input": [
      "len(school_register)"
     ],
     "language": "python",
     "metadata": {},
     "outputs": [
      {
       "metadata": {},
       "output_type": "pyout",
       "prompt_number": 5,
       "text": [
        "20"
       ]
      }
     ],
     "prompt_number": 5
    },
    {
     "cell_type": "code",
     "collapsed": false,
     "input": [
      "x=[]\n",
      "y=[]\n",
      "radius=[]\n",
      "for i in range(len(school_register)):\n",
      "    x.append(school_register[i].x)\n",
      "    y.append(school_register[i].y)\n",
      "    radius.append(school_register[i].population)"
     ],
     "language": "python",
     "metadata": {},
     "outputs": [],
     "prompt_number": 6
    },
    {
     "cell_type": "code",
     "collapsed": false,
     "input": [
      "pyplot.scatter(x,y,s=radius)"
     ],
     "language": "python",
     "metadata": {},
     "outputs": [
      {
       "metadata": {},
       "output_type": "pyout",
       "prompt_number": 7,
       "text": [
        "<matplotlib.collections.PathCollection at 0x7fa7d603e240>"
       ]
      }
     ],
     "prompt_number": 7
    },
    {
     "cell_type": "code",
     "collapsed": false,
     "input": [
      "pyplot.show()"
     ],
     "language": "python",
     "metadata": {},
     "outputs": [],
     "prompt_number": 8
    },
    {
     "cell_type": "code",
     "collapsed": false,
     "input": [
      "school_register[4].population"
     ],
     "language": "python",
     "metadata": {},
     "outputs": [
      {
       "metadata": {},
       "output_type": "pyout",
       "prompt_number": 9,
       "text": [
        "420"
       ]
      }
     ],
     "prompt_number": 9
    },
    {
     "cell_type": "code",
     "collapsed": false,
     "input": [
      "print(school_register[4].x)\n",
      "print(school_register[4].y)\n",
      "print(school_register[4].population)"
     ],
     "language": "python",
     "metadata": {},
     "outputs": [
      {
       "output_type": "stream",
       "stream": "stdout",
       "text": [
        "41\n",
        "28\n",
        "210\n"
       ]
      }
     ],
     "prompt_number": 26
    },
    {
     "cell_type": "code",
     "collapsed": false,
     "input": [
      "sea.census(school_register)"
     ],
     "language": "python",
     "metadata": {},
     "outputs": [],
     "prompt_number": 22
    },
    {
     "cell_type": "code",
     "collapsed": false,
     "input": [
      "sailor_register[0].x=41"
     ],
     "language": "python",
     "metadata": {},
     "outputs": [],
     "prompt_number": 23
    },
    {
     "cell_type": "code",
     "collapsed": false,
     "input": [
      "sailor_register[0].y=28"
     ],
     "language": "python",
     "metadata": {},
     "outputs": [],
     "prompt_number": 24
    },
    {
     "cell_type": "code",
     "collapsed": false,
     "input": [
      "print(sea.cast_net(sailor_register[0]))"
     ],
     "language": "python",
     "metadata": {},
     "outputs": [
      {
       "output_type": "stream",
       "stream": "stdout",
       "text": [
        "210\n"
       ]
      }
     ],
     "prompt_number": 25
    },
    {
     "cell_type": "code",
     "collapsed": false,
     "input": [
      "sea.nearby_fish(sailor_register[0].x,sailor_register[0].y)"
     ],
     "language": "python",
     "metadata": {},
     "outputs": [
      {
       "metadata": {},
       "output_type": "pyout",
       "prompt_number": 21,
       "text": [
        "[set(), set(), set(), set(), set(), set(), set(), set(), set()]"
       ]
      }
     ],
     "prompt_number": 21
    },
    {
     "cell_type": "code",
     "collapsed": false,
     "input": [
      "int(0.5*school_register[4].population)"
     ],
     "language": "python",
     "metadata": {},
     "outputs": [
      {
       "metadata": {},
       "output_type": "pyout",
       "prompt_number": 34,
       "text": [
        "155"
       ]
      }
     ],
     "prompt_number": 34
    },
    {
     "cell_type": "code",
     "collapsed": false,
     "input": [
      "0.5*school_register[4].population"
     ],
     "language": "python",
     "metadata": {},
     "outputs": [
      {
       "metadata": {},
       "output_type": "pyout",
       "prompt_number": 36,
       "text": [
        "155.5"
       ]
      }
     ],
     "prompt_number": 36
    },
    {
     "cell_type": "code",
     "collapsed": false,
     "input": [
      "5%3"
     ],
     "language": "python",
     "metadata": {},
     "outputs": [
      {
       "metadata": {},
       "output_type": "pyout",
       "prompt_number": 36,
       "text": [
        "2"
       ]
      }
     ],
     "prompt_number": 36
    },
    {
     "cell_type": "code",
     "collapsed": false,
     "input": [
      "import matplotlib.pyplot as plt"
     ],
     "language": "python",
     "metadata": {},
     "outputs": [],
     "prompt_number": 27
    },
    {
     "cell_type": "code",
     "collapsed": false,
     "input": [
      "dir(plt)"
     ],
     "language": "python",
     "metadata": {},
     "outputs": [
      {
       "metadata": {},
       "output_type": "pyout",
       "prompt_number": 28,
       "text": [
        "['Annotation',\n",
        " 'Arrow',\n",
        " 'Artist',\n",
        " 'AutoLocator',\n",
        " 'Axes',\n",
        " 'Button',\n",
        " 'Circle',\n",
        " 'Figure',\n",
        " 'FigureCanvasBase',\n",
        " 'FixedFormatter',\n",
        " 'FixedLocator',\n",
        " 'FormatStrFormatter',\n",
        " 'Formatter',\n",
        " 'FuncFormatter',\n",
        " 'GridSpec',\n",
        " 'IndexLocator',\n",
        " 'Line2D',\n",
        " 'LinearLocator',\n",
        " 'Locator',\n",
        " 'LogFormatter',\n",
        " 'LogFormatterExponent',\n",
        " 'LogFormatterMathtext',\n",
        " 'LogLocator',\n",
        " 'MaxNLocator',\n",
        " 'MultipleLocator',\n",
        " 'Normalize',\n",
        " 'NullFormatter',\n",
        " 'NullLocator',\n",
        " 'PolarAxes',\n",
        " 'Polygon',\n",
        " 'Rectangle',\n",
        " 'ScalarFormatter',\n",
        " 'Slider',\n",
        " 'Subplot',\n",
        " 'SubplotTool',\n",
        " 'Text',\n",
        " 'TickHelper',\n",
        " 'Widget',\n",
        " '__builtins__',\n",
        " '__cached__',\n",
        " '__doc__',\n",
        " '__file__',\n",
        " '__loader__',\n",
        " '__name__',\n",
        " '__package__',\n",
        " '__spec__',\n",
        " '_autogen_docstring',\n",
        " '_backend_mod',\n",
        " '_backend_selection',\n",
        " '_imread',\n",
        " '_imsave',\n",
        " '_interactive_bk',\n",
        " '_pylab_helpers',\n",
        " '_setp',\n",
        " '_setup_pyplot_info_docstrings',\n",
        " '_show',\n",
        " '_string_to_bool',\n",
        " 'absolute_import',\n",
        " 'acorr',\n",
        " 'angle_spectrum',\n",
        " 'annotate',\n",
        " 'arrow',\n",
        " 'autoscale',\n",
        " 'autumn',\n",
        " 'axes',\n",
        " 'axhline',\n",
        " 'axhspan',\n",
        " 'axis',\n",
        " 'axvline',\n",
        " 'axvspan',\n",
        " 'bar',\n",
        " 'barbs',\n",
        " 'barh',\n",
        " 'bone',\n",
        " 'box',\n",
        " 'boxplot',\n",
        " 'broken_barh',\n",
        " 'cla',\n",
        " 'clabel',\n",
        " 'clf',\n",
        " 'clim',\n",
        " 'close',\n",
        " 'cm',\n",
        " 'cohere',\n",
        " 'colorbar',\n",
        " 'colormaps',\n",
        " 'colors',\n",
        " 'connect',\n",
        " 'contour',\n",
        " 'contourf',\n",
        " 'cool',\n",
        " 'copper',\n",
        " 'csd',\n",
        " 'dedent',\n",
        " 'delaxes',\n",
        " 'disconnect',\n",
        " 'division',\n",
        " 'docstring',\n",
        " 'draw',\n",
        " 'draw_if_interactive',\n",
        " 'errorbar',\n",
        " 'eventplot',\n",
        " 'figaspect',\n",
        " 'figimage',\n",
        " 'figlegend',\n",
        " 'fignum_exists',\n",
        " 'figtext',\n",
        " 'figure',\n",
        " 'fill',\n",
        " 'fill_between',\n",
        " 'fill_betweenx',\n",
        " 'findobj',\n",
        " 'flag',\n",
        " 'gca',\n",
        " 'gcf',\n",
        " 'gci',\n",
        " 'get',\n",
        " 'get_backend',\n",
        " 'get_cmap',\n",
        " 'get_current_fig_manager',\n",
        " 'get_figlabels',\n",
        " 'get_fignums',\n",
        " 'get_plot_commands',\n",
        " 'get_scale_docs',\n",
        " 'get_scale_names',\n",
        " 'getp',\n",
        " 'ginput',\n",
        " 'gray',\n",
        " 'grid',\n",
        " 'hexbin',\n",
        " 'hist',\n",
        " 'hist2d',\n",
        " 'hlines',\n",
        " 'hold',\n",
        " 'hot',\n",
        " 'hsv',\n",
        " 'imread',\n",
        " 'imsave',\n",
        " 'imshow',\n",
        " 'interactive',\n",
        " 'ioff',\n",
        " 'ion',\n",
        " 'is_numlike',\n",
        " 'is_string_like',\n",
        " 'ishold',\n",
        " 'isinteractive',\n",
        " 'jet',\n",
        " 'legend',\n",
        " 'locator_params',\n",
        " 'loglog',\n",
        " 'magnitude_spectrum',\n",
        " 'margins',\n",
        " 'matplotlib',\n",
        " 'matshow',\n",
        " 'minorticks_off',\n",
        " 'minorticks_on',\n",
        " 'mlab',\n",
        " 'new_figure_manager',\n",
        " 'normalize',\n",
        " 'np',\n",
        " 'over',\n",
        " 'pause',\n",
        " 'pcolor',\n",
        " 'pcolormesh',\n",
        " 'phase_spectrum',\n",
        " 'pie',\n",
        " 'pink',\n",
        " 'plot',\n",
        " 'plot_date',\n",
        " 'plotfile',\n",
        " 'plotting',\n",
        " 'polar',\n",
        " 'print_function',\n",
        " 'prism',\n",
        " 'psd',\n",
        " 'pylab_setup',\n",
        " 'quiver',\n",
        " 'quiverkey',\n",
        " 'rc',\n",
        " 'rcParams',\n",
        " 'rcParamsDefault',\n",
        " 'rc_context',\n",
        " 'rcdefaults',\n",
        " 'register_cmap',\n",
        " 'rgrids',\n",
        " 'savefig',\n",
        " 'sca',\n",
        " 'scatter',\n",
        " 'sci',\n",
        " 'semilogx',\n",
        " 'semilogy',\n",
        " 'set_cmap',\n",
        " 'setp',\n",
        " 'show',\n",
        " 'silent_list',\n",
        " 'six',\n",
        " 'specgram',\n",
        " 'spectral',\n",
        " 'spring',\n",
        " 'spy',\n",
        " 'stackplot',\n",
        " 'stem',\n",
        " 'step',\n",
        " 'streamplot',\n",
        " 'style',\n",
        " 'subplot',\n",
        " 'subplot2grid',\n",
        " 'subplot_tool',\n",
        " 'subplots',\n",
        " 'subplots_adjust',\n",
        " 'summer',\n",
        " 'suptitle',\n",
        " 'switch_backend',\n",
        " 'sys',\n",
        " 'table',\n",
        " 'text',\n",
        " 'thetagrids',\n",
        " 'tick_params',\n",
        " 'ticklabel_format',\n",
        " 'tight_layout',\n",
        " 'title',\n",
        " 'tricontour',\n",
        " 'tricontourf',\n",
        " 'tripcolor',\n",
        " 'triplot',\n",
        " 'twinx',\n",
        " 'twiny',\n",
        " 'unicode_literals',\n",
        " 'violinplot',\n",
        " 'vlines',\n",
        " 'waitforbuttonpress',\n",
        " 'warnings',\n",
        " 'winter',\n",
        " 'xcorr',\n",
        " 'xkcd',\n",
        " 'xlabel',\n",
        " 'xlim',\n",
        " 'xscale',\n",
        " 'xticks',\n",
        " 'ylabel',\n",
        " 'ylim',\n",
        " 'yscale',\n",
        " 'yticks']"
       ]
      }
     ],
     "prompt_number": 28
    },
    {
     "cell_type": "code",
     "collapsed": false,
     "input": [
      "help(plt.figure)"
     ],
     "language": "python",
     "metadata": {},
     "outputs": [
      {
       "output_type": "stream",
       "stream": "stdout",
       "text": [
        "Help on function figure in module matplotlib.pyplot:\n",
        "\n",
        "figure(num=None, figsize=None, dpi=None, facecolor=None, edgecolor=None, frameon=True, FigureClass=<class 'matplotlib.figure.Figure'>, **kwargs)\n",
        "    Creates a new figure.\n",
        "    \n",
        "    Parameters\n",
        "    ----------\n",
        "    \n",
        "    num : integer or string, optional, default: none\n",
        "        If not provided, a new figure will be created, and the figure number\n",
        "        will be incremented. The figure objects holds this number in a `number`\n",
        "        attribute.\n",
        "        If num is provided, and a figure with this id already exists, make\n",
        "        it active, and returns a reference to it. If this figure does not\n",
        "        exists, create it and returns it.\n",
        "        If num is a string, the window title will be set to this figure's\n",
        "        `num`.\n",
        "    \n",
        "    figsize : tuple of integers, optional, default: None\n",
        "        width, height in inches. If not provided, defaults to rc\n",
        "        figure.figsize.\n",
        "    \n",
        "    dpi : integer, optional, default: None\n",
        "        resolution of the figure. If not provided, defaults to rc figure.dpi.\n",
        "    \n",
        "    facecolor :\n",
        "        the background color. If not provided, defaults to rc figure.facecolor\n",
        "    \n",
        "    edgecolor :\n",
        "        the border color. If not provided, defaults to rc figure.edgecolor\n",
        "    \n",
        "    Returns\n",
        "    -------\n",
        "    figure : Figure\n",
        "        The Figure instance returned will also be passed to new_figure_manager\n",
        "        in the backends, which allows to hook custom Figure classes into the\n",
        "        pylab interface. Additional kwargs will be passed to the figure init\n",
        "        function.\n",
        "    \n",
        "    Notes\n",
        "    -----\n",
        "    If you are creating many figures, make sure you explicitly call \"close\"\n",
        "    on the figures you are not using, because this will enable pylab\n",
        "    to properly clean up the memory.\n",
        "    \n",
        "    rcParams defines the default values, which can be modified in the\n",
        "    matplotlibrc file\n",
        "\n"
       ]
      }
     ],
     "prompt_number": 29
    },
    {
     "cell_type": "code",
     "collapsed": false,
     "input": [
      "fig=plt.figure()"
     ],
     "language": "python",
     "metadata": {},
     "outputs": [],
     "prompt_number": 30
    },
    {
     "cell_type": "code",
     "collapsed": false,
     "input": [
      "axis=plt.subplot(111)"
     ],
     "language": "python",
     "metadata": {},
     "outputs": [],
     "prompt_number": 37
    },
    {
     "cell_type": "code",
     "collapsed": false,
     "input": [
      "fig.show()"
     ],
     "language": "python",
     "metadata": {},
     "outputs": [],
     "prompt_number": 39
    },
    {
     "cell_type": "code",
     "collapsed": false,
     "input": [
      "fig.close()"
     ],
     "language": "python",
     "metadata": {},
     "outputs": [
      {
       "ename": "AttributeError",
       "evalue": "'Figure' object has no attribute 'close'",
       "output_type": "pyerr",
       "traceback": [
        "\u001b[1;31m---------------------------------------------------------------------------\u001b[0m\n\u001b[1;31mAttributeError\u001b[0m                            Traceback (most recent call last)",
        "\u001b[1;32m<ipython-input-40-1e4698d363f0>\u001b[0m in \u001b[0;36m<module>\u001b[1;34m()\u001b[0m\n\u001b[1;32m----> 1\u001b[1;33m \u001b[0mfig\u001b[0m\u001b[1;33m.\u001b[0m\u001b[0mclose\u001b[0m\u001b[1;33m(\u001b[0m\u001b[1;33m)\u001b[0m\u001b[1;33m\u001b[0m\u001b[0m\n\u001b[0m",
        "\u001b[1;31mAttributeError\u001b[0m: 'Figure' object has no attribute 'close'"
       ]
      }
     ],
     "prompt_number": 40
    },
    {
     "cell_type": "code",
     "collapsed": false,
     "input": [],
     "language": "python",
     "metadata": {},
     "outputs": []
    }
   ],
   "metadata": {}
  }
 ]
}